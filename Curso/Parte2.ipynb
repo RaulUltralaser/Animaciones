{
 "cells": [
  {
   "cell_type": "code",
   "execution_count": 1,
   "metadata": {},
   "outputs": [
    {
     "data": {
      "text/html": [
       "<pre style=\"white-space:pre;overflow-x:auto;line-height:normal;font-family:Menlo,'DejaVu Sans Mono',consolas,'Courier New',monospace\">Manim Community <span style=\"color: #008000; text-decoration-color: #008000\">v0.17.2</span>\n",
       "\n",
       "</pre>\n"
      ],
      "text/plain": [
       "Manim Community \u001b[32mv0.\u001b[0m\u001b[32m17.2\u001b[0m\n",
       "\n"
      ]
     },
     "metadata": {},
     "output_type": "display_data"
    }
   ],
   "source": [
    "from manim import *\n",
    "\n",
    "config.media_width = \"75%\"\n",
    "config.verbosity = \"WARNING\""
   ]
  },
  {
   "attachments": {},
   "cell_type": "markdown",
   "metadata": {},
   "source": [
    "Esta sección esta pensada para animaciones de entrada salida y display"
   ]
  },
  {
   "cell_type": "code",
   "execution_count": 33,
   "metadata": {},
   "outputs": [
    {
     "name": "stderr",
     "output_type": "stream",
     "text": [
      "                                                                                  \r"
     ]
    },
    {
     "data": {
      "text/html": [
       "<video src=\"media/jupyter/FadeInExample@2023-03-23@13-11-01.mp4\" controls autoplay loop style=\"max-width: 75%;\"  >\n",
       "      Your browser does not support the <code>video</code> element.\n",
       "    </video>"
      ],
      "text/plain": [
       "<IPython.core.display.Video object>"
      ]
     },
     "metadata": {},
     "output_type": "display_data"
    }
   ],
   "source": [
    "%%manim -qm FadeInExample\n",
    "\n",
    "class FadeInExample(Scene):\n",
    "    def construct(self):\n",
    "        dot = Dot(UP * 2 + LEFT)\n",
    "        # self.add(dot)\n",
    "        tex = Tex(\n",
    "            \"FadeIn with \", \"shift \", \" or target\\_position\", \" and scale\"\n",
    "        ).scale(1)\n",
    "        animations = [\n",
    "            FadeIn(tex[0]),\n",
    "            FadeIn(tex[1], shift=DOWN),\n",
    "            FadeIn(tex[2], target_position=dot),\n",
    "            FadeIn(tex[3], scale=1.5),\n",
    "        ]\n",
    "        self.play(AnimationGroup(*animations, lag_ratio=0.5))\n",
    "        self.wait(3)\n",
    "        \n",
    "\n",
    "        start = Rectangle(width=4, height=1)\n",
    "        target = Circle(fill_opacity=1).scale(0.25)\n",
    "\n",
    "        self.play(FadeIn(start))\n",
    "        self.play(Transform(start,target,strech=True))\n",
    "        \n",
    "\t"
   ]
  }
 ],
 "metadata": {
  "kernelspec": {
   "display_name": "Python 3",
   "language": "python",
   "name": "python3"
  },
  "language_info": {
   "codemirror_mode": {
    "name": "ipython",
    "version": 3
   },
   "file_extension": ".py",
   "mimetype": "text/x-python",
   "name": "python",
   "nbconvert_exporter": "python",
   "pygments_lexer": "ipython3",
   "version": "3.10.6"
  },
  "orig_nbformat": 4
 },
 "nbformat": 4,
 "nbformat_minor": 2
}
