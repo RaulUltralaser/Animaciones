{
 "cells": [
  {
   "cell_type": "code",
   "execution_count": 26,
   "metadata": {},
   "outputs": [],
   "source": [
    "from manim import *\n",
    "\n",
    "config.media_width = \"75%\"\n",
    "config.verbosity = \"WARNING\""
   ]
  },
  {
   "cell_type": "code",
   "execution_count": 7,
   "metadata": {},
   "outputs": [
    {
     "name": "stderr",
     "output_type": "stream",
     "text": [
      "                                                                                                         \r"
     ]
    },
    {
     "data": {
      "text/html": [
       "<video src=\"media/jupyter/anadir@2023-03-21@11-27-53.mp4\" controls autoplay loop style=\"max-width: 75%;\"  >\n",
       "      Your browser does not support the <code>video</code> element.\n",
       "    </video>"
      ],
      "text/plain": [
       "<IPython.core.display.Video object>"
      ]
     },
     "metadata": {},
     "output_type": "display_data"
    }
   ],
   "source": [
    "%%manim -qm anadir\n",
    "\n",
    "class anadir(Scene):\n",
    "    def construct(self):\n",
    "        #Aquí se pone nuestra escena\n",
    "        title = Text('Add, Remove, Wait, and Play') #self es la scene, esto se debe add a self\n",
    "        self.add(title)\n",
    "        self.wait(3) #3 Un delay de 3 segundos antes de continuar la animación\n",
    "        self.remove(title)\n",
    "        self.wait(2)\n",
    "        self.play(FadeIn(title)) #Pass en una Enty Animation\n",
    "        self.wait()"
   ]
  },
  {
   "cell_type": "code",
   "execution_count": 15,
   "metadata": {},
   "outputs": [
    {
     "name": "stderr",
     "output_type": "stream",
     "text": [
      "                                                                                                         \r"
     ]
    },
    {
     "data": {
      "text/html": [
       "<video src=\"media/jupyter/configuracion@2023-03-21@11-59-19.mp4\" controls autoplay loop style=\"max-width: 75%;\"  >\n",
       "      Your browser does not support the <code>video</code> element.\n",
       "    </video>"
      ],
      "text/plain": [
       "<IPython.core.display.Video object>"
      ]
     },
     "metadata": {},
     "output_type": "display_data"
    }
   ],
   "source": [
    "%%manim -qm configuracion\n",
    "\n",
    "class configuracion(Scene):               #los kwargs por alguna razón no los pude meter en un CONFIG\n",
    "    title_kwargs={\n",
    "        'color': RED,\n",
    "        'opacity': 0.7\n",
    "    }\n",
    "    scene_kwargs={\n",
    "        'color': BLUE,\n",
    "        'opacity': 0.7\n",
    "    }\n",
    "    \n",
    "    def construct(self):\n",
    "        #Aquí se pone nuestra escena\n",
    "        title = Text('Add, Remove, Wait, and Play', **self.scene_kwargs) #self es la scene, esto se debe add a self\n",
    "        self.add(title)\n",
    "        self.wait(3) #3 Un delay de 3 segundos antes de continuar la animación\n",
    "        self.remove(title)\n",
    "        self.wait(2)\n",
    "        self.play(FadeIn(title)) #Pass en una Enty Animation\n",
    "        self.wait()"
   ]
  },
  {
   "cell_type": "code",
   "execution_count": 18,
   "metadata": {},
   "outputs": [
    {
     "name": "stderr",
     "output_type": "stream",
     "text": [
      "                                                                                                                          \r"
     ]
    },
    {
     "data": {
      "text/html": [
       "<video src=\"media/jupyter/shapes@2023-03-21@13-00-58.mp4\" controls autoplay loop style=\"max-width: 75%;\"  >\n",
       "      Your browser does not support the <code>video</code> element.\n",
       "    </video>"
      ],
      "text/plain": [
       "<IPython.core.display.Video object>"
      ]
     },
     "metadata": {},
     "output_type": "display_data"
    }
   ],
   "source": [
    "%%manim -qm shapes\n",
    "\n",
    "\n",
    "class shapes(Scene):\n",
    "    def construct(self):\n",
    "        title = Text('Square, Circle, Dot, Rectangle,Line, Ellipse,Triangle').scale(0.4)\n",
    "        self.play(FadeIn(title))\n",
    "        self.wait(3)\n",
    "        self.play(FadeOut(title))\n",
    "\n",
    "        theShapes = []\n",
    "        theShapes.append(Square(fill_opacity=1).shift(RIGHT*4).set_color(GREEN))\n",
    "        theShapes.append(Dot().shift(LEFT*4))\n",
    "        theShapes.append(Circle().shift(DOWN*2))\n",
    "        theShapes.append(Rectangle().shift(UP*2))\n",
    "        \n",
    "        for i in theShapes:\n",
    "            self.play(FadeIn(i))\n",
    "        self.wait(3)\n",
    "        self.play(FadeOut(Group(*self.mobjects))) #Borra todo lo de la pantalla se podría usar self.theShapes\n",
    "\n",
    "        theShapes2 = []\n",
    "        theShapes2.append(Line([-1,-1,-0],[2,3,0]))\n",
    "        theShapes2.append(Ellipse(width=0.5, height=1, arc_center=[-1,0,0],fill_opacity=0.8))\n",
    "        theShapes2.append(Triangle(fill_opacity=0.5).shift(UP*2).set_color(GREY))\n",
    "\n",
    "        for i in theShapes2:\n",
    "            self.play(FadeIn(i))\n",
    "        self.wait(3)\n",
    "        self.play(FadeOut(Group(*self.mobjects)))\n",
    "\n"
   ]
  },
  {
   "cell_type": "code",
   "execution_count": 25,
   "metadata": {},
   "outputs": [
    {
     "name": "stderr",
     "output_type": "stream",
     "text": [
      "                                                                                                                              \r"
     ]
    },
    {
     "data": {
      "text/html": [
       "<video src=\"media/jupyter/latex@2023-03-21@13-10-24.mp4\" controls autoplay loop style=\"max-width: 75%;\"  >\n",
       "      Your browser does not support the <code>video</code> element.\n",
       "    </video>"
      ],
      "text/plain": [
       "<IPython.core.display.Video object>"
      ]
     },
     "metadata": {},
     "output_type": "display_data"
    }
   ],
   "source": [
    "%%manim -qm latex\n",
    "\n",
    "class latex(Scene):\n",
    "\tdef construct(self): \n",
    "\t\ttitle = Text(\"Text, Latex\")\n",
    "\t\tself.play(FadeIn(title))\n",
    "\t\t#self.wait(3)\n",
    "\t\tself.play(FadeOut(title))\n",
    "\n",
    "\n",
    "\t\tgroceries = Text(\"Cheese, Tomatoes, Bread, Yeast\").set_color(RED)\n",
    "\t\tself.add(groceries)\n",
    "\t\tself.wait(1)\n",
    "\t\tself.remove(groceries)\n",
    "\t\tgroceries2 = Text(\"\"\"\n",
    "\t\t\t- Cheese\n",
    "\t\t\t- Lettuce\n",
    "\t\t\t- Tomatoes\n",
    "\t\t\t\"\"\")\n",
    "\t\tself.add(groceries2)\n",
    "\t\tself.wait(1)\n",
    "\t\tself.remove(groceries2)\n",
    "\n",
    "\n",
    "\t\tequation = MathTex(r\"\\begin{bmatrix} 1 & 2 & 3 \\\\ a & b & c \\end{bmatrix}\") \n",
    "\t\tself.play(Write(equation))\n",
    "\n",
    "\t\ttextintex = MathTex(r\"\\text{This is Text in LaTeX}\").shift(DOWN*3)\n",
    "\t\tself.add(textintex)\n",
    "\t\tself.wait()"
   ]
  },
  {
   "cell_type": "code",
   "execution_count": 27,
   "metadata": {},
   "outputs": [
    {
     "name": "stderr",
     "output_type": "stream",
     "text": [
      "                                                                                                \r"
     ]
    },
    {
     "data": {
      "text/html": [
       "<video src=\"media/jupyter/grouper@2023-03-21@13-15-01.mp4\" controls autoplay loop style=\"max-width: 75%;\"  >\n",
       "      Your browser does not support the <code>video</code> element.\n",
       "    </video>"
      ],
      "text/plain": [
       "<IPython.core.display.Video object>"
      ]
     },
     "metadata": {},
     "output_type": "display_data"
    }
   ],
   "source": [
    "%%manim -qm grouper\n",
    "\n",
    "class grouper(Scene):\n",
    "\tdef construct(self): \n",
    "\t\ttitle = Text(\"Grouping MObjects\")\n",
    "\t\tself.play(FadeIn(title))\n",
    "\t\t#self.wait(3)\n",
    "\t\tself.play(FadeOut(title))\n",
    "\n",
    "\t\t#obj1 = Dot().shift(LEFT*2)\n",
    "\t\t#obj2 = Circle().shift(RIGHT*2)\n",
    "\t\t#obj3 = Square()\n",
    "\n",
    "\t\t#self.add(obj1, obj2, obj3)\n",
    "\t\t#self.play(FadeIn(obj1), FadeIn(obj2), FadeIn(obj3))\n",
    "\t\tobj1 = Dot()\n",
    "\t\tobj2 = Circle()\n",
    "\t\tobj3 = Square()\n",
    "\t\tbigM = Group(obj1, obj2, obj3).arrange(RIGHT) #Esta función agrupa y el parametro los ubica\n",
    "\t\tself.play(FadeIn(bigM))"
   ]
  },
  {
   "cell_type": "code",
   "execution_count": 33,
   "metadata": {},
   "outputs": [
    {
     "name": "stderr",
     "output_type": "stream",
     "text": [
      "                                                                                    \r"
     ]
    },
    {
     "data": {
      "text/html": [
       "<video src=\"media/jupyter/images@2023-03-21@13-28-49.mp4\" controls autoplay loop style=\"max-width: 75%;\"  >\n",
       "      Your browser does not support the <code>video</code> element.\n",
       "    </video>"
      ],
      "text/plain": [
       "<IPython.core.display.Video object>"
      ]
     },
     "metadata": {},
     "output_type": "display_data"
    }
   ],
   "source": [
    "%%manim -qm images\n",
    "\n",
    "class images(Scene):\n",
    "\tdef construct(self): \n",
    "\t\ttitle = Text(\"Images and SVGs\")\n",
    "\t\tself.play(FadeIn(title))\n",
    "\t\t#self.wait(3)\n",
    "\t\tself.play(FadeOut(title))\n",
    "\n",
    "\t\tblueOrange = ImageMobject(\"./images.jpeg\")\n",
    "\t\tself.play(FadeIn(blueOrange))\n",
    "\t\tself.play(FadeOut(blueOrange))\n",
    "\n",
    "\t\t#Ahora importa colores\n",
    "\t\tumbrella = SVGMobject(\"./svgs.svg\")\n",
    "\t\tself.play(FadeIn(umbrella))\n",
    "\t\t\n",
    "\t"
   ]
  },
  {
   "cell_type": "code",
   "execution_count": 54,
   "metadata": {},
   "outputs": [
    {
     "name": "stderr",
     "output_type": "stream",
     "text": [
      "                                                                                            \r"
     ]
    },
    {
     "data": {
      "text/html": [
       "<video src=\"media/jupyter/thenums@2023-03-21@14-00-42.mp4\" controls autoplay loop style=\"max-width: 75%;\"  >\n",
       "      Your browser does not support the <code>video</code> element.\n",
       "    </video>"
      ],
      "text/plain": [
       "<IPython.core.display.Video object>"
      ]
     },
     "metadata": {},
     "output_type": "display_data"
    }
   ],
   "source": [
    "%%manim -qm thenums\n",
    "\n",
    "class thenums(Scene):\n",
    "\tdef construct(self): \n",
    "\t\ttitle = Text(\"Numbers and Number Line\")\n",
    "\t\tself.play(FadeIn(title))\n",
    "\t\t#self.wait(3)\n",
    "\t\tself.play(FadeOut(title))\n",
    "\t\t\n",
    "\t\t\"\"\"\n",
    "\t\tfirstnum = DecimalNumber(3.3)\n",
    "\t\tself.play(FadeIn(firstnum))\n",
    "\t\tself.wait(2)\n",
    "\t\tfirstnum.set_value(4.5)\n",
    "\t\tself.wait(2)\n",
    "\t\tfirstnum.increment_value()\n",
    "\t\tself.wait(2)\n",
    "\t\tfirstnum.increment_value(0.05)\n",
    "\t\tself.wait(2)\n",
    "\t\t\n",
    "\n",
    "\t\tsecondnum = Integer(4).shift(DOWN*1)\n",
    "\t\tself.play(FadeIn(secondnum))\n",
    "\t\tself.wait(2)\n",
    "\t\tsecondnum.set_value(1)\n",
    "\t\tself.wait(2)\n",
    "\t\tsecondnum.increment_value()\n",
    "\t\tself.wait(2)\n",
    "\t\tsecondnum.increment_value(0.4)\n",
    "\t\tsecondnum.set_color(BLUE)\n",
    "\t\tself.wait(2)\n",
    "\t\tsecondnum.increment_value(0.4)\n",
    "\t\tsecondnum.set_color(RED)\n",
    "\t\tself.wait(2)\n",
    "\t\tsecondnum.increment_value(0.4)\n",
    "\t\tsecondnum.set_color(BLUE)\n",
    "\t\tself.wait(2)\n",
    "\t\tsecondnum.increment_value(0.8)\n",
    "\t\tsecondnum.set_color(BLUE)\n",
    "\t\tself.wait(2)\n",
    "\t\tsecondnum.increment_value(0.8)\n",
    "\t\tsecondnum.set_color(RED)\n",
    "\t\tself.wait(2)\n",
    "\t\tsecondnum.increment_value(0.8)\n",
    "\t\tsecondnum.set_color(BLUE)\n",
    "\t\tself.wait(2)\n",
    "\t\t\"\"\"\n",
    "\n",
    "\t\tnline = NumberLine()  #UNA RECTA NUMERICA\n",
    "\t\t# self.play(FadeIn(nline))\n",
    "\n",
    "\t\t#Estos son puntos que puedo posicionar en cualquier lado\n",
    "\t\t# dot1 = Dot([1, 0, 0])\n",
    "\t\t# self.play(FadeIn(dot1))\n",
    "\n",
    "\t\t# posx = -3\n",
    "\t\t# dot2 = Dot(nline.n2p(posx)).set_color(GREEN)\n",
    "\t\t# self.play(FadeIn(dot2))\n",
    "\n",
    "\t\t\"\"\"\n",
    "\t\t#Rudimentary Animation (No Updaters or Generate Targets)\n",
    "\t\tfor i in range(200):\n",
    "\t\t\tposx += 1/50\n",
    "\t\t\tself.remove(dot2)\n",
    "\t\t\tdot2 = Dot(nline.n2p(posx)).set_color(GREEN_SCREEN)\n",
    "\t\t\tself.add(dot2)\n",
    "\t\t\tself.wait(0.001)\n",
    "\t\t\"\"\"\n",
    "\t\t\n",
    "\t\tdef addLabels(numberlinemobj, x_values=None, excluding=[]):\n",
    "\t\t\tif (x_values == None):\n",
    "\t\t\t\tx_values = numberlinemobj.get_tick_range()\n",
    "\t\t\tnlabels = []\n",
    "\t\t\tfor i in x_values:\n",
    "\t\t\t\tif i not in excluding:\n",
    "\t\t\t\t\tnlabels.append(  Text(str(i)).shift(numberlinemobj.n2p(i)).shift(DOWN*0.3).scale(0.5)  )\n",
    "\t\t\treturn Group(numberlinemobj, *nlabels)\n",
    "\t\tnline = addLabels(nline, [0,1,-1])\n",
    "\t\tself.play(FadeIn(nline))\n",
    "\t\tself.wait(3)\n",
    "\n",
    "\t\tdot1 = Dot([1, 0, 0]).set_color(GREEN)\n",
    "\t\tself.play(FadeIn(dot1))\n",
    "\t\tself.wait()\n",
    "\n"
   ]
  },
  {
   "cell_type": "code",
   "execution_count": 55,
   "metadata": {},
   "outputs": [
    {
     "name": "stderr",
     "output_type": "stream",
     "text": [
      "                                                                                                                     \r"
     ]
    },
    {
     "data": {
      "text/html": [
       "<video src=\"media/jupyter/moreshapes@2023-03-21@14-04-10.mp4\" controls autoplay loop style=\"max-width: 75%;\"  >\n",
       "      Your browser does not support the <code>video</code> element.\n",
       "    </video>"
      ],
      "text/plain": [
       "<IPython.core.display.Video object>"
      ]
     },
     "metadata": {},
     "output_type": "display_data"
    }
   ],
   "source": [
    "%%manim -qm moreshapes\n",
    "\n",
    "import numpy as np\n",
    "\n",
    "class moreshapes(Scene):\n",
    "\tdef construct(self): \n",
    "\t\ttitle = Text(\"Arc, Sector, Vector, DashedLine, Arrow\")\n",
    "\t\tself.play(FadeIn(title))\n",
    "\t\t#self.wait(3)\n",
    "\t\tself.play(FadeOut(title))\n",
    "\n",
    "\t\tshape1 = Arc(start_angle=np.pi/2+np.pi/3, angle=np.pi)\n",
    "\t\tself.add(shape1)\n",
    "\t\tself.wait(0.1)\n",
    "\t\tself.remove(shape1)\n",
    "\n",
    "\t\tshape2 = Sector(start_angle=np.pi/2+np.pi/3, angle=np.pi)\n",
    "\t\tself.add(shape2)\n",
    "\t\tself.wait(0.1)\n",
    "\t\tself.remove(shape2)\n",
    "\n",
    "\t\tshape3 = Vector(direction=[2, 2, 0]) #Direction\n",
    "\t\tself.add(shape3)\n",
    "\t\tself.wait(0.1)\n",
    "\t\tself.remove(shape3)\n",
    "\n",
    "\t\tshape4 = DashedLine([-3, -2, 0], [2, 1, 0])\n",
    "\t\tself.add(shape4)\n",
    "\t\tself.wait(0.1)\n",
    "\t\tself.remove(shape4)\n",
    "\n",
    "\t\tshape5 = Arrow([-1, -1, 0], [3, 0, 0]) #2 Points\n",
    "\t\tself.add(shape5)\n",
    "\t\tself.wait(0.1)\n",
    "\t\t#self.remove(shape4)"
   ]
  },
  {
   "attachments": {},
   "cell_type": "markdown",
   "metadata": {},
   "source": [
    "No puedo utilizar config en jupyter solo en archivos .py. Este ejemplo lo modifique para adaptarlo a manim y no manimgl\n",
    "\n"
   ]
  },
  {
   "cell_type": "code",
   "execution_count": 29,
   "metadata": {},
   "outputs": [
    {
     "name": "stderr",
     "output_type": "stream",
     "text": [
      "                                                                                                     \r"
     ]
    },
    {
     "data": {
      "text/html": [
       "<video src=\"media/jupyter/twodgraphs@2023-03-22@15-08-49.mp4\" controls autoplay loop style=\"max-width: 75%;\"  >\n",
       "      Your browser does not support the <code>video</code> element.\n",
       "    </video>"
      ],
      "text/plain": [
       "<IPython.core.display.Video object>"
      ]
     },
     "metadata": {},
     "output_type": "display_data"
    }
   ],
   "source": [
    "%%manim -qm twodgraphs\n",
    "\n",
    "# from manimlib import *\n",
    "import numpy as np\n",
    "\n",
    "class twodgraphs(Scene): #2d Coordinate systems\n",
    "\n",
    "\taxes_kwargs= {\n",
    "\t\t\"x_range\": (-1, 10, 1),\n",
    "\t\t\"y_range\": (-1, 10, 1),\n",
    "\t\t\"axis_config\": {\n",
    "\t\t\t\"stroke_color\": PINK,\n",
    "\t\t\t\"stroke_width\": 4,\n",
    "\t\t},\n",
    "\t\t\"y_axis_config\": {\n",
    "\t\t\t\"include_tip\": False\n",
    "\t\t}\n",
    "\t}\n",
    "\t\n",
    "\tdef construct(self): \n",
    "\t\ttitle = Text(\"Axes, NumberPlane, Complex Plane\")\n",
    "\t\tself.play(FadeIn(title))\n",
    "\t\t#self.wait(3)\n",
    "\t\tself.play(FadeOut(title))\n",
    "\n",
    "\t\t\n",
    "\t\t# a1 = Axes()\n",
    "\t\t# a1.add_coordinates()\n",
    "\t\t# self.play(FadeIn(a1))\n",
    "\t\t# self.wait(1)\n",
    "\t\t# self.play(FadeOut(a1))\n",
    "\n",
    "\t\t# a2 = NumberPlane()\n",
    "\t\t# a2.add_coordinates()\n",
    "\t\t# self.play(FadeIn(a2))\n",
    "\t\t# self.wait(1)\n",
    "\t\t# self.play(FadeOut(a2))\n",
    "\n",
    "\t\t# a3 = ComplexPlane()\n",
    "\t\t# a3.add_coordinates()\n",
    "\t\t# self.play(FadeIn(a3))\n",
    "\t\t# self.wait(1)\n",
    "\t\t# self.play(FadeOut(a3))\n",
    "\t\t\n",
    "\n",
    "\n",
    "\t\taxes = Axes(**self.axes_kwargs)\n",
    "\t\taxes.add_coordinates(font_size=20, num_decimal_places=1)\n",
    "\t\tself.add(axes)\n",
    "\n",
    "\t\tfunc = lambda q: (q-4.5)**2 #Quadratic Function\n",
    "\t\tgraph = axes.plot(func)\n",
    "\t\tself.play(FadeIn(graph))\n",
    "\n",
    "\t\tx = 2.5\n",
    "\t\tball = Dot(color=RED).scale(2).move_to(axes.c2p(x, func(x)))\n",
    "\t\tself.add(ball)\n",
    "\t\tself.wait()\n",
    "\n",
    "\t\tlist = [0.5,0.4,0.3,0.2,0.1]\n",
    "\n",
    "\t\tfor i in list:\n",
    "\t\t\trects = axes.get_riemann_rectangles(graph, x_range=[1, 8], dx=i)\n",
    "\t\t\tself.play(Write(rects))\n",
    "\t\t\tself.wait(2)\n",
    "\t\t\tself.remove(rects)"
   ]
  },
  {
   "cell_type": "code",
   "execution_count": 18,
   "metadata": {},
   "outputs": [
    {
     "name": "stderr",
     "output_type": "stream",
     "text": [
      "                                                                                                                           \r"
     ]
    },
    {
     "data": {
      "text/html": [
       "<video src=\"media/jupyter/moreshapes2@2023-03-22@14-43-26.mp4\" controls autoplay loop style=\"max-width: 75%;\"  >\n",
       "      Your browser does not support the <code>video</code> element.\n",
       "    </video>"
      ],
      "text/plain": [
       "<IPython.core.display.Video object>"
      ]
     },
     "metadata": {},
     "output_type": "display_data"
    }
   ],
   "source": [
    "%%manim -qm moreshapes2\n",
    "\n",
    "import numpy as np\n",
    "\n",
    "class moreshapes2(Scene):\n",
    "\taxes_kwargs= {\n",
    "\t\t\"x_range\": (-1, 10, 1),\n",
    "\t\t\"y_range\": (-1, 10, 1),\n",
    "\t\t\"axis_config\": {\n",
    "\t\t\t\"stroke_color\": PINK,\n",
    "\t\t\t\"stroke_width\": 4,\n",
    "\t\t},\n",
    "\t\t\"y_axis_config\": {\n",
    "\t\t\t\"include_tip\": False\n",
    "\t\t}\n",
    "\t}\n",
    "\tdef construct(self): \n",
    "\t\ttitle = Text(\"Tangent Line, Polygon, Cubic Bezier, Rounded Rectangle\").scale(0.7)\n",
    "\t\tself.play(FadeIn(title))\n",
    "\t\t#self.wait(3)\n",
    "\t\tself.play(FadeOut(title))\n",
    "\n",
    "\t\t\n",
    "\t\t# #######\n",
    "\t\t# #FROM LAST LECTURE\n",
    "\t\t# #######\n",
    "\t\t# axes = Axes(**self.axes_kwargs)\n",
    "\t\t# axes.add_coordinates(font_size=20, num_decimal_places=1)\n",
    "\t\t# self.add(axes)\n",
    "\n",
    "\t\t# func = lambda q: (q-4.5)**2 #Quadratic Function\n",
    "\t\t# graph = axes.plot(func)\n",
    "\t\t# self.play(FadeIn(graph))\n",
    "\t\t# #######\n",
    "\t\t# #FROM LAST LECTURE\n",
    "\t\t# #######\n",
    "\n",
    "\t\t\n",
    "\t\t# val = 0.4\n",
    "\t\t# length=6\n",
    "\t\t# obj1 = TangentLine(graph, val, length).set_color(RED) #Tangent Something!\n",
    "\t\t# self.play(FadeIn(obj1))\n",
    "\t\t# self.wait(2)\n",
    "\t\t\n",
    "\t\t\n",
    "\n",
    "\t\tvertices = [\n",
    "\t\t\t[-1, -1, 0],\n",
    "\t\t\t[0, 2, 0],\n",
    "\t\t\t[-4, -1, 0],\n",
    "\t\t\t[2, 0, 0],\n",
    "\t\t]\n",
    "\n",
    "\t\tobj2 = Polygon(*vertices)\n",
    "\t\tself.add(obj2)\n",
    "\t\t\n",
    "\t\tobj3 = CubicBezier(*vertices).set_color(RED)\n",
    "\t\tself.play(Write(obj3))\n",
    "\n",
    "\t\t\n",
    "\n",
    "\t\t# obj4 = RoundedRectangle(corner_radius=0.5)\n",
    "\t\t# self.add(obj4)\n",
    "\t\t# self.wait(3)"
   ]
  },
  {
   "cell_type": "code",
   "execution_count": 46,
   "metadata": {},
   "outputs": [
    {
     "name": "stderr",
     "output_type": "stream",
     "text": [
      "                                                                                                                        \r"
     ]
    },
    {
     "data": {
      "text/html": [
       "<video src=\"media/jupyter/misc1@2023-03-22@15-51-45.mp4\" controls autoplay loop style=\"max-width: 75%;\"  >\n",
       "      Your browser does not support the <code>video</code> element.\n",
       "    </video>"
      ],
      "text/plain": [
       "<IPython.core.display.Video object>"
      ]
     },
     "metadata": {},
     "output_type": "display_data"
    }
   ],
   "source": [
    "%%manim -qm misc1\n",
    "\n",
    "import numpy as np\n",
    "import random\n",
    "\n",
    "class misc1(Scene):\n",
    "\tdef construct(self): \n",
    "\t\ttext = Text(\"Matrices, BarChart, SurroundingRectangle, Dot Cloud\").scale(0.7)\n",
    "\t\tself.play(FadeIn(text))\n",
    "\t\t#self.wait(3)\n",
    "\t\tself.play(FadeOut(text))\n",
    "\n",
    "\t\ttitle = Text(\"Matrices, BarChart, SurroundingRectangle, Dot Cloud\").shift(UP*3.5).scale(0.7)\n",
    "\t\tself.play(FadeIn(title))\n",
    "\n",
    "\t\tmat = [['3', '5', 'x'], ['1', '2', 'x^2'], ['4', '6', 'x_i']]\n",
    "\t\tm = Matrix(mat)\n",
    "\t\tself.play(FadeIn(m))\n",
    "\t\tself.play(FadeOut(m))\n",
    "\n",
    "\t\t#BarChart(data, labels) -> kwarg max_value\n",
    "\t\t#5, 4, 1\n",
    "\t\tbar_chart = BarChart([(5-k) for k in range(3)], bar_names = ['Q', 'R', 'S'])\n",
    "\t\t#bar_chart.to_edge(DOWN)\n",
    "\t\tself.add(bar_chart)\n",
    "\n",
    "\n",
    "\t\t#BoundingBox, Created Minimum Rectangle that Fills Region, any MOBJECT!!!\n",
    "\t\tsrect = SurroundingRectangle(bar_chart)\n",
    "\t\tself.play(Write(srect))\n",
    "\t\tself.play(FadeOut(bar_chart), FadeOut(srect))\n",
    "\t\t\n",
    "\t\t#DotCloud(points) -> points = [ [x, y, z], [x2, y2, z2], .. ]\n",
    "\t\tpdots = PointCloudDot(color=RED)\n",
    "\t\tself.add(pdots)\n",
    "\t\tself.wait(3)\n"
   ]
  },
  {
   "cell_type": "code",
   "execution_count": 57,
   "metadata": {},
   "outputs": [
    {
     "name": "stderr",
     "output_type": "stream",
     "text": [
      "                                                                                                         \r"
     ]
    },
    {
     "data": {
      "text/html": [
       "<video src=\"media/jupyter/vfields@2023-03-22@16-02-05.mp4\" controls autoplay loop style=\"max-width: 75%;\"  >\n",
       "      Your browser does not support the <code>video</code> element.\n",
       "    </video>"
      ],
      "text/plain": [
       "<IPython.core.display.Video object>"
      ]
     },
     "metadata": {},
     "output_type": "display_data"
    }
   ],
   "source": [
    "%%manim -qm vfields\n",
    "\n",
    "class vfields(Scene):\n",
    "\n",
    "\tdef construct(self): \n",
    "\t\ttext = Text(\"Vector Fields\")\n",
    "\t\tself.play(FadeIn(text))\n",
    "\t\t#self.wait(3)\n",
    "\t\tself.play(FadeOut(text))\n",
    "\n",
    "\t\ttitle = Text(\"Vector Fields\").shift(UP*3.5)\n",
    "\t\tself.play(FadeIn(title))\n",
    "\n",
    "\t\tfunc = lambda p: rotate_vector(p/3, PI/2) + p/9\n",
    "\t\tvector_field = ArrowVectorField(\n",
    "\t\t\tfunc,\n",
    "\t\t\tx_range=[-7, 7, 1], y_range=[-4, 4, 1],length_func=lambda x: x / 4\n",
    "\t\t)\n",
    "\t\tvector_field.scale(0.5)\n",
    "\t\tself.play(FadeIn(vector_field))\n",
    "\t\tself.wait(3)\n",
    "\n",
    "\t\t\n",
    "\t\t# stream_lines = StreamLines(\n",
    "\t\t# \tfunc\n",
    "\t\t# )\n",
    "\t\t# stream_lines.scale(0.5)\n",
    "\t\t# self.play(FadeIn(stream_lines))\n",
    "\t\t# self.wait(4)\n",
    "\t\t# self.play(FadeOut(vector_field))"
   ]
  },
  {
   "cell_type": "code",
   "execution_count": 83,
   "metadata": {},
   "outputs": [
    {
     "name": "stderr",
     "output_type": "stream",
     "text": [
      "<string>:18: DeprecationWarning: This method is not guaranteed to stay around. Please prefer setting the attribute normally or with Mobject.set().\n",
      "                                                                              \r"
     ]
    },
    {
     "data": {
      "text/html": [
       "<video src=\"media/jupyter/cam@2023-03-22@16-32-01.mp4\" controls autoplay loop style=\"max-width: 75%;\"  >\n",
       "      Your browser does not support the <code>video</code> element.\n",
       "    </video>"
      ],
      "text/plain": [
       "<IPython.core.display.Video object>"
      ]
     },
     "metadata": {},
     "output_type": "display_data"
    }
   ],
   "source": [
    "%%manim -qm cam\n",
    "\n",
    "class cam(MovingCameraScene):\n",
    "\tdef construct(self): \n",
    "\t\ttext = Text(\"Camera\")\n",
    "\t\tself.play(FadeIn(text))\n",
    "\t\t#self.wait(3)\n",
    "\t\tself.play(FadeOut(text))\n",
    "\n",
    "\t\t#Scene Material\n",
    "\t\ttitle = Text(\"Camera\").shift(UP*3.5)\n",
    "\t\tself.play(FadeIn(title))\n",
    "\t\tself.play(FadeIn(Square(fill_opacity=1).set_color(YELLOW)))\n",
    "\n",
    "\t\t#Camera\n",
    "\t\tframe = self.camera.frame\n",
    "\n",
    "\t\tframe3 = frame.copy()\n",
    "\t\tframe3.set_width(25)\n",
    "\t\tself.play(Transform(frame, frame3))\n",
    "\t\t\n",
    "\t\t\n",
    "        "
   ]
  },
  {
   "cell_type": "code",
   "execution_count": 104,
   "metadata": {},
   "outputs": [
    {
     "name": "stderr",
     "output_type": "stream",
     "text": [
      "<string>:26: DeprecationWarning: This method is not guaranteed to stay around. Please prefer setting the attribute normally or with Mobject.set().\n",
      "<string>:30: DeprecationWarning: This method is not guaranteed to stay around. Please prefer setting the attribute normally or with Mobject.set().\n",
      "                                                                                        \r"
     ]
    },
    {
     "data": {
      "text/html": [
       "<video src=\"media/jupyter/ExampleSphere@2023-03-22@16-50-29.mp4\" controls autoplay loop style=\"max-width: 75%;\"  >\n",
       "      Your browser does not support the <code>video</code> element.\n",
       "    </video>"
      ],
      "text/plain": [
       "<IPython.core.display.Video object>"
      ]
     },
     "metadata": {},
     "output_type": "display_data"
    }
   ],
   "source": [
    "%%manim -qm ExampleSphere\n",
    "\n",
    "class ExampleSphere(MovingCameraScene):\n",
    "    def construct(self):\n",
    "        \n",
    "        sphere1 = Sphere(\n",
    "            center=(0, 0, 0),\n",
    "            radius=1,\n",
    "            resolution=(20, 20),\n",
    "            u_range=[0.001, PI - 0.001],\n",
    "            v_range=[0, TAU]\n",
    "        )\n",
    "        sphere1.set_color(BLUE)\n",
    "        # self.add(sphere1)\n",
    "        \n",
    "\n",
    "        title = Text('Esfera')\n",
    "        self.play(FadeIn(title))\n",
    "        self.play(FadeOut(title))\n",
    "        # self.set_camera_orientation(phi=PI / 6, theta=PI / 6)\n",
    "        self.add(sphere1)\n",
    "        self.wait(3)\n",
    "\n",
    "        frame = self.camera.frame\n",
    "\n",
    "        frame3 = frame.copy()\n",
    "        frame3.set_width(25)\n",
    "        self.play(Transform(frame, frame3))\n",
    "\n",
    "        frame2 = frame.copy()\n",
    "        frame2.set_phi(PI /6).set_theta(PI / 6)\n",
    "        self.play(Transform(frame, frame2))\n",
    "        \n",
    "        # self.set_camera_orientation(phi=PI , theta=PI / 6)\n",
    "        # self.wait(3)\n",
    "        # for i in range(5):\n",
    "        #     self.set_camera_orientation(phi=PI/6+i, theta=PI/6)\n",
    "        # title = Text(\"Esfera\").shift(UP*3.5)\n",
    "\t\t# self.play(FadeIn(title))\n",
    "\t\t# self.play(FadeOut(title))"
   ]
  }
 ],
 "metadata": {
  "kernelspec": {
   "display_name": "Python 3",
   "language": "python",
   "name": "python3"
  },
  "language_info": {
   "codemirror_mode": {
    "name": "ipython",
    "version": 3
   },
   "file_extension": ".py",
   "mimetype": "text/x-python",
   "name": "python",
   "nbconvert_exporter": "python",
   "pygments_lexer": "ipython3",
   "version": "3.10.6"
  },
  "orig_nbformat": 4
 },
 "nbformat": 4,
 "nbformat_minor": 2
}
